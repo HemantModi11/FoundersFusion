{
 "cells": [
  {
   "cell_type": "code",
   "execution_count": 43,
   "id": "185cc8a9",
   "metadata": {},
   "outputs": [],
   "source": [
    "import numpy as np\n",
    "import pandas as pd\n",
    "import matplotlib.pyplot as plt\n",
    "import seaborn as sns\n",
    "from sklearn.model_selection import train_test_split \n",
    "from sklearn.preprocessing import LabelEncoder\n",
    "from sklearn.ensemble import RandomForestClassifier\n",
    "from sklearn.metrics import classification_report,confusion_matrix\n",
    "from imblearn.over_sampling import SMOTE\n",
    "from collections import Counter\n",
    "import random"
   ]
  },
  {
   "cell_type": "code",
   "execution_count": 44,
   "id": "31cbf998",
   "metadata": {},
   "outputs": [],
   "source": [
    "df = pd.read_csv('startup.csv')"
   ]
  },
  {
   "cell_type": "code",
   "execution_count": 45,
   "id": "a10d5424",
   "metadata": {},
   "outputs": [
    {
     "data": {
      "text/plain": [
       "dtype('float64')"
      ]
     },
     "execution_count": 45,
     "metadata": {},
     "output_type": "execute_result"
    }
   ],
   "source": [
    "def str_to_float(row):\n",
    "    if '-' in row:\n",
    "        row = np.nan\n",
    "    else:\n",
    "        row = float(row)\n",
    "    return row\n",
    "        \n",
    "df['funding_total_usd'] = df['funding_total_usd'].apply(str_to_float)\n",
    "df['funding_total_usd'].dtypes"
   ]
  },
  {
   "cell_type": "code",
   "execution_count": 46,
   "id": "4f22ac24",
   "metadata": {},
   "outputs": [
    {
     "data": {
      "text/plain": [
       "nanmean      1.847860e+07\n",
       "nanmedian    2.000000e+06\n",
       "nanstd       1.880133e+08\n",
       "Name: funding_total_usd, dtype: float64"
      ]
     },
     "execution_count": 46,
     "metadata": {},
     "output_type": "execute_result"
    }
   ],
   "source": [
    "df['funding_total_usd'].aggregate([np.nanmean,np.nanmedian,np.nanstd])"
   ]
  },
  {
   "cell_type": "code",
   "execution_count": 47,
   "id": "aaa195cd",
   "metadata": {},
   "outputs": [],
   "source": [
    "funding_rounds_group = df.groupby('funding_rounds')['funding_total_usd'].aggregate(['count',np.nanmean,np.nanmedian,np.nanstd])"
   ]
  },
  {
   "cell_type": "code",
   "execution_count": 48,
   "id": "4f960241",
   "metadata": {},
   "outputs": [],
   "source": [
    "funding_filled = []\n",
    "\n",
    "for h,i in enumerate(df['funding_total_usd']):\n",
    "    if np.isnan(i):\n",
    "        i = int(funding_rounds_group.loc[df['funding_rounds'].iloc[h],'nanmean'])\n",
    "        funding_filled.append(i)\n",
    "    else:\n",
    "        funding_filled.append(int(i))\n",
    "    \n",
    "df['funding_filled'] = funding_filled"
   ]
  },
  {
   "cell_type": "code",
   "execution_count": 49,
   "id": "4a392bf5",
   "metadata": {},
   "outputs": [],
   "source": [
    "status = []\n",
    "\n",
    "for i in df['status']:\n",
    "    if i in ['acquired','ipo']:\n",
    "        status.append('success')\n",
    "    elif i == 'closed':\n",
    "        status.append('fail')\n",
    "    else:\n",
    "        status.append('operating')\n",
    "        \n",
    "df['status_class'] = status"
   ]
  },
  {
   "cell_type": "code",
   "execution_count": 50,
   "id": "3522f7ee",
   "metadata": {},
   "outputs": [],
   "source": [
    "status_class = pd.get_dummies(df['status_class'])\n",
    "df = pd.concat([df,status_class],axis=1)"
   ]
  },
  {
   "cell_type": "code",
   "execution_count": 51,
   "id": "0c070aa8",
   "metadata": {},
   "outputs": [],
   "source": [
    "country = []\n",
    "\n",
    "for i in df.country_code:\n",
    "  if not isinstance(i,str):\n",
    "    country.append(np.random.choice(df.country_code[df.country_code.notnull()]))\n",
    "  else:\n",
    "    country.append(i)\n",
    "\n",
    "df['country'] = country"
   ]
  },
  {
   "cell_type": "code",
   "execution_count": 52,
   "id": "6e85a45b",
   "metadata": {},
   "outputs": [
    {
     "data": {
      "text/html": [
       "<div>\n",
       "<style scoped>\n",
       "    .dataframe tbody tr th:only-of-type {\n",
       "        vertical-align: middle;\n",
       "    }\n",
       "\n",
       "    .dataframe tbody tr th {\n",
       "        vertical-align: top;\n",
       "    }\n",
       "\n",
       "    .dataframe thead th {\n",
       "        text-align: right;\n",
       "    }\n",
       "</style>\n",
       "<table border=\"1\" class=\"dataframe\">\n",
       "  <thead>\n",
       "    <tr style=\"text-align: right;\">\n",
       "      <th></th>\n",
       "      <th>count</th>\n",
       "      <th>count/Total</th>\n",
       "      <th>fail</th>\n",
       "      <th>success</th>\n",
       "    </tr>\n",
       "  </thead>\n",
       "  <tbody>\n",
       "    <tr>\n",
       "      <th>USA</th>\n",
       "      <td>4367</td>\n",
       "      <td>-0.000554</td>\n",
       "      <td>0.016379</td>\n",
       "      <td>-0.009376</td>\n",
       "    </tr>\n",
       "    <tr>\n",
       "      <th>GBR</th>\n",
       "      <td>452</td>\n",
       "      <td>0.000302</td>\n",
       "      <td>0.018734</td>\n",
       "      <td>-0.002595</td>\n",
       "    </tr>\n",
       "    <tr>\n",
       "      <th>CAN</th>\n",
       "      <td>218</td>\n",
       "      <td>-0.000112</td>\n",
       "      <td>0.016849</td>\n",
       "      <td>-0.008791</td>\n",
       "    </tr>\n",
       "    <tr>\n",
       "      <th>IND</th>\n",
       "      <td>204</td>\n",
       "      <td>0.000257</td>\n",
       "      <td>0.020100</td>\n",
       "      <td>0.004073</td>\n",
       "    </tr>\n",
       "    <tr>\n",
       "      <th>CHN</th>\n",
       "      <td>191</td>\n",
       "      <td>0.000153</td>\n",
       "      <td>0.018925</td>\n",
       "      <td>-0.002941</td>\n",
       "    </tr>\n",
       "    <tr>\n",
       "      <th>FRA</th>\n",
       "      <td>129</td>\n",
       "      <td>-0.000059</td>\n",
       "      <td>0.020298</td>\n",
       "      <td>-0.004137</td>\n",
       "    </tr>\n",
       "    <tr>\n",
       "      <th>DEU</th>\n",
       "      <td>119</td>\n",
       "      <td>-0.000116</td>\n",
       "      <td>0.017928</td>\n",
       "      <td>-0.004528</td>\n",
       "    </tr>\n",
       "    <tr>\n",
       "      <th>ISR</th>\n",
       "      <td>116</td>\n",
       "      <td>0.000045</td>\n",
       "      <td>0.022890</td>\n",
       "      <td>-0.008683</td>\n",
       "    </tr>\n",
       "    <tr>\n",
       "      <th>ESP</th>\n",
       "      <td>93</td>\n",
       "      <td>0.000085</td>\n",
       "      <td>0.012836</td>\n",
       "      <td>-0.001773</td>\n",
       "    </tr>\n",
       "    <tr>\n",
       "      <th>AUS</th>\n",
       "      <td>45</td>\n",
       "      <td>-0.000210</td>\n",
       "      <td>0.009077</td>\n",
       "      <td>-0.002554</td>\n",
       "    </tr>\n",
       "  </tbody>\n",
       "</table>\n",
       "</div>"
      ],
      "text/plain": [
       "     count  count/Total      fail   success\n",
       "USA   4367    -0.000554  0.016379 -0.009376\n",
       "GBR    452     0.000302  0.018734 -0.002595\n",
       "CAN    218    -0.000112  0.016849 -0.008791\n",
       "IND    204     0.000257  0.020100  0.004073\n",
       "CHN    191     0.000153  0.018925 -0.002941\n",
       "FRA    129    -0.000059  0.020298 -0.004137\n",
       "DEU    119    -0.000116  0.017928 -0.004528\n",
       "ISR    116     0.000045  0.022890 -0.008683\n",
       "ESP     93     0.000085  0.012836 -0.001773\n",
       "AUS     45    -0.000210  0.009077 -0.002554"
      ]
     },
     "execution_count": 52,
     "metadata": {},
     "output_type": "execute_result"
    }
   ],
   "source": [
    "# Original column\n",
    "country_code_column = pd.DataFrame()\n",
    "country_code_column['count'] = df.country_code.value_counts()\n",
    "country_code_column['count/Total'] = df.country_code.value_counts()/df.country_code.count()\n",
    "country_code_column['fail'] = df.groupby('country_code')['fail'].sum()/df.country_code.value_counts()\n",
    "country_code_column['success'] = df.groupby('country_code')['success'].sum()/df.country_code.value_counts()\n",
    "country_code_column = country_code_column[:10]\n",
    "\n",
    "# Our column\n",
    "country_column = pd.DataFrame()\n",
    "country_column['count'] = df.country.value_counts()\n",
    "country_column['count/Total'] = df.country.value_counts()/df.country.count()\n",
    "country_column['fail'] = df.groupby('country')['fail'].sum()/df.country.value_counts()\n",
    "country_column['success'] = df.groupby('country')['success'].sum()/df.country.value_counts()\n",
    "country_column = country_column[:10]\n",
    "\n",
    "# Let's see de difference between both columns\n",
    "country_column - country_code_column"
   ]
  },
  {
   "cell_type": "code",
   "execution_count": 53,
   "id": "27ed0ab6",
   "metadata": {},
   "outputs": [],
   "source": [
    "years = []\n",
    "\n",
    "for fou, first in zip(df.founded_at, df.first_funding_at):\n",
    "  if isinstance(fou,str):\n",
    "    years.append(int(fou.split('-')[0]))\n",
    "  elif not isinstance(fou,str) and isinstance(first,str):\n",
    "    years.append(int(first.split('-')[0]))\n",
    "  else:\n",
    "    date = int(np.random.choice(df.founded_at[df.founded_at.notnull()]).split('-')[0])\n",
    "    years.append(date)\n",
    "\n",
    "df['year'] = years"
   ]
  },
  {
   "cell_type": "code",
   "execution_count": 54,
   "id": "f0593b62",
   "metadata": {},
   "outputs": [],
   "source": [
    "main_category = []\n",
    "\n",
    "for i in df['category_list']:\n",
    "    if not isinstance(i,str):\n",
    "      main_category.append('Other')\n",
    "    else:\n",
    "      main_category.append(i.split('|')[0])\n",
    "\n",
    "df['main_category'] = main_category"
   ]
  },
  {
   "cell_type": "code",
   "execution_count": 55,
   "id": "2ae5aefc",
   "metadata": {},
   "outputs": [],
   "source": [
    "df = df[['country','year','main_category','funding_rounds','funding_filled',\n",
    "               'status_class']]"
   ]
  },
  {
   "cell_type": "code",
   "execution_count": 56,
   "id": "aa482fb1",
   "metadata": {
    "scrolled": true
   },
   "outputs": [],
   "source": [
    "df.dropna(inplace=True)"
   ]
  },
  {
   "cell_type": "code",
   "execution_count": 57,
   "id": "8298e848",
   "metadata": {},
   "outputs": [],
   "source": [
    "unique_categories = df['main_category'].unique()\n",
    "selected_categories = random.sample(unique_categories.tolist(), 50)\n",
    "\n",
    "filtered_df = df[df['main_category'].isin(selected_categories)]\n",
    "\n",
    "valid_selected_categories = []\n",
    "for category in selected_categories:\n",
    "    if (filtered_df['main_category'] == category).sum() > 1:\n",
    "        valid_selected_categories.append(category)\n",
    "\n",
    "filtered_df = filtered_df[filtered_df['main_category'].isin(valid_selected_categories)]"
   ]
  },
  {
   "cell_type": "code",
   "execution_count": 58,
   "id": "f5ab5531",
   "metadata": {},
   "outputs": [],
   "source": [
    "label_encoders = {}\n",
    "categorical_cols = ['country', 'main_category']\n",
    "for col in categorical_cols:\n",
    "    le = LabelEncoder()\n",
    "    filtered_df[col] = le.fit_transform(filtered_df[col])\n",
    "    label_encoders[col] = le"
   ]
  },
  {
   "cell_type": "code",
   "execution_count": 59,
   "id": "f2fc853c",
   "metadata": {},
   "outputs": [
    {
     "name": "stdout",
     "output_type": "stream",
     "text": [
      "   country  year  main_category  funding_rounds  funding_filled status_class\n",
      "0       29  2008              3               1        10070591    operating\n",
      "1        2  2012              2               3          440000    operating\n",
      "2       23  2008             40               1          130636    operating\n",
      "3       29  2012              6               1        10070591      success\n",
      "4       65  2012             22               1          600000    operating\n"
     ]
    }
   ],
   "source": [
    "import pandas as pd\n",
    "import random\n",
    "from imblearn.over_sampling import SMOTE\n",
    "\n",
    "X = filtered_df.drop('status_class', axis=1)  # Features\n",
    "y = filtered_df['status_class']  # Target variable\n",
    "\n",
    "sm = SMOTE(sampling_strategy='auto', random_state=42)\n",
    "X_resampled, y_resampled = sm.fit_resample(X, y)\n",
    "balanced_df = pd.concat([X_resampled, y_resampled], axis=1)\n",
    "balanced_df.reset_index(drop=True, inplace=True)"
   ]
  },
  {
   "cell_type": "code",
   "execution_count": 62,
   "id": "f1030a4f",
   "metadata": {},
   "outputs": [],
   "source": [
    "X = balanced_df[['country','year','main_category','funding_rounds','funding_filled']]\n",
    "y = balanced_df['status_class']\n",
    "X_train, X_test, y_train, y_test = train_test_split(X, y, test_size=0.3, random_state=42)"
   ]
  },
  {
   "cell_type": "code",
   "execution_count": 63,
   "id": "ae8416ff",
   "metadata": {},
   "outputs": [
    {
     "data": {
      "text/plain": [
       "RandomForestClassifier()"
      ]
     },
     "execution_count": 63,
     "metadata": {},
     "output_type": "execute_result"
    }
   ],
   "source": [
    "rfc = RandomForestClassifier(n_estimators=100)\n",
    "rfc.fit(X_train, y_train)"
   ]
  },
  {
   "cell_type": "code",
   "execution_count": 64,
   "id": "b018c511",
   "metadata": {},
   "outputs": [],
   "source": [
    "pred = rfc.predict(X_test)"
   ]
  },
  {
   "cell_type": "code",
   "execution_count": 65,
   "id": "daa3f32d",
   "metadata": {},
   "outputs": [
    {
     "name": "stdout",
     "output_type": "stream",
     "text": [
      "0.8181818181818182\n",
      "              precision    recall  f1-score   support\n",
      "\n",
      "        fail       0.80      0.86      0.83       719\n",
      "   operating       0.84      0.75      0.79       744\n",
      "     success       0.82      0.85      0.84       726\n",
      "\n",
      "    accuracy                           0.82      2189\n",
      "   macro avg       0.82      0.82      0.82      2189\n",
      "weighted avg       0.82      0.82      0.82      2189\n",
      "\n"
     ]
    }
   ],
   "source": [
    "from sklearn.metrics import accuracy_score\n",
    "accuracy = accuracy_score(y_test, pred)\n",
    "print(accuracy)\n",
    "print(classification_report(y_test,pred))"
   ]
  },
  {
   "cell_type": "code",
   "execution_count": 66,
   "id": "07ee1c5b",
   "metadata": {},
   "outputs": [],
   "source": [
    "import pickle\n",
    "pickle.dump(rfc, open('model.pkl','wb'))"
   ]
  },
  {
   "cell_type": "code",
   "execution_count": 67,
   "id": "f435e3db",
   "metadata": {},
   "outputs": [
    {
     "name": "stdout",
     "output_type": "stream",
     "text": [
      "country mapping:\n",
      "0 -> ARE\n",
      "1 -> ARG\n",
      "2 -> AUS\n",
      "3 -> AUT\n",
      "4 -> BEL\n",
      "5 -> BGR\n",
      "6 -> BRA\n",
      "7 -> CAN\n",
      "8 -> CHE\n",
      "9 -> CHL\n",
      "10 -> CHN\n",
      "11 -> COL\n",
      "12 -> CRI\n",
      "13 -> CYM\n",
      "14 -> CZE\n",
      "15 -> DEU\n",
      "16 -> DNK\n",
      "17 -> DOM\n",
      "18 -> ECU\n",
      "19 -> EGY\n",
      "20 -> ESP\n",
      "21 -> EST\n",
      "22 -> FIN\n",
      "23 -> FRA\n",
      "24 -> GBR\n",
      "25 -> GRD\n",
      "26 -> HKG\n",
      "27 -> HUN\n",
      "28 -> IDN\n",
      "29 -> IND\n",
      "30 -> IRL\n",
      "31 -> ISR\n",
      "32 -> ITA\n",
      "33 -> JOR\n",
      "34 -> JPN\n",
      "35 -> KOR\n",
      "36 -> LAO\n",
      "37 -> LBN\n",
      "38 -> LTU\n",
      "39 -> LUX\n",
      "40 -> LVA\n",
      "41 -> MEX\n",
      "42 -> MMR\n",
      "43 -> MYS\n",
      "44 -> NLD\n",
      "45 -> NOR\n",
      "46 -> NZL\n",
      "47 -> PAK\n",
      "48 -> PAN\n",
      "49 -> PER\n",
      "50 -> PHL\n",
      "51 -> POL\n",
      "52 -> PRT\n",
      "53 -> ROM\n",
      "54 -> RUS\n",
      "55 -> SGP\n",
      "56 -> SLV\n",
      "57 -> SRB\n",
      "58 -> SVN\n",
      "59 -> SWE\n",
      "60 -> THA\n",
      "61 -> TUR\n",
      "62 -> TWN\n",
      "63 -> UKR\n",
      "64 -> URY\n",
      "65 -> USA\n",
      "66 -> VNM\n",
      "67 -> ZAF\n",
      "main_category mapping:\n",
      "0 -> Adventure Travel\n",
      "1 -> All Students\n",
      "2 -> Audio\n",
      "3 -> Beauty\n",
      "4 -> Call Center Automation\n",
      "5 -> Cannabis\n",
      "6 -> Chat\n",
      "7 -> Cloud-Based Music\n",
      "8 -> Collaborative Consumption\n",
      "9 -> College Recruiting\n",
      "10 -> Colleges\n",
      "11 -> Comics\n",
      "12 -> Communications Infrastructure\n",
      "13 -> Console Gaming\n",
      "14 -> Contact Centers\n",
      "15 -> Cooking\n",
      "16 -> Displays\n",
      "17 -> Drones\n",
      "18 -> Entrepreneur\n",
      "19 -> Facebook Applications\n",
      "20 -> Forums\n",
      "21 -> Fraud Detection\n",
      "22 -> Hardware + Software\n",
      "23 -> High Tech\n",
      "24 -> Home Owners\n",
      "25 -> Hospitals\n",
      "26 -> Indoor Positioning\n",
      "27 -> Industrial Automation\n",
      "28 -> Innovation Management\n",
      "29 -> Internet TV\n",
      "30 -> Kinect\n",
      "31 -> Lighting\n",
      "32 -> Local\n",
      "33 -> Mechanical Solutions\n",
      "34 -> Medical\n",
      "35 -> Meeting Software\n",
      "36 -> Nanotechnology\n",
      "37 -> Non-Tech\n",
      "38 -> Photo Editing\n",
      "39 -> Price Comparison\n",
      "40 -> Publishing\n",
      "41 -> Recruiting\n",
      "42 -> Specialty Chemicals\n"
     ]
    }
   ],
   "source": [
    "# Print the mapping of labels to encoded values\n",
    "for col, le in label_encoders.items():\n",
    "    print(f'{col} mapping:')\n",
    "    for class_label, encoded_value in enumerate(le.classes_):\n",
    "        print(f'{class_label} -> {encoded_value}')"
   ]
  },
  {
   "cell_type": "code",
   "execution_count": null,
   "id": "b59fdb37",
   "metadata": {},
   "outputs": [],
   "source": []
  }
 ],
 "metadata": {
  "kernelspec": {
   "display_name": "Python 3 (ipykernel)",
   "language": "python",
   "name": "python3"
  },
  "language_info": {
   "codemirror_mode": {
    "name": "ipython",
    "version": 3
   },
   "file_extension": ".py",
   "mimetype": "text/x-python",
   "name": "python",
   "nbconvert_exporter": "python",
   "pygments_lexer": "ipython3",
   "version": "3.9.13"
  }
 },
 "nbformat": 4,
 "nbformat_minor": 5
}
